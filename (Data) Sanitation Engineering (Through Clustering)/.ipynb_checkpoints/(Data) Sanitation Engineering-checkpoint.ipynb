{
 "cells": [
  {
   "cell_type": "markdown",
   "metadata": {},
   "source": [
    "# (Data) Sanitation Engineering"
   ]
  },
  {
   "cell_type": "markdown",
   "metadata": {},
   "source": [
    "## Exploring methods to merge disparate data sources"
   ]
  },
  {
   "cell_type": "markdown",
   "metadata": {},
   "source": [
    "### **Introduction**\n",
    "In general terms, this article is going to be about data cleansing. Specifically, the process I would like to explore is actually a small subset of the cleansing process: Merging disparate data sources on common categories."
   ]
  },
  {
   "cell_type": "markdown",
   "metadata": {},
   "source": [
    "#### **A quick primer on data cleansing (you can skip this if you are familiar)**\n",
    "Data cleansing is a highly important task that you should take absolutely seriously. I've seen countless data specialists joke that their jobs essentially boil down to being a glorified data janitor, doomed to mop the floors in the Hall of Records of the Hopper School of Data after perpetual problem children spill every sticky thing they can get their hands on. Okay, I may have some liberties with the metaphor; The point is that data cleansing is important and you are within your rights to call yourself a data janitor if the shoe fits.  \n",
    "Data cleansing is often the crux of the analytic process. All downstream processes are contingent on the output of this step. There are varying degrees of how much cleansing is necessary, but you should be at least comfortable with the process. Data cleaning is the process of fixing or removing incorrect, corrupted, incorrectly formatted, duplicate, or incomplete data within a dataset (source: https://www.tableau.com/learn/articles/what-is-data-cleaning)."
   ]
  },
  {
   "cell_type": "markdown",
   "metadata": {},
   "source": [
    "#### **Merging data sources**\n",
    "When combining data from multiple sources there is often a lot of issues to correct for. Different sources will often have different naming conventions than your main source, different ways of grouping data, etc. Most of the time the additional data source was created at a much different point in time, by different engineers and stakeholders, and (almost) always with different goals and use-cases. In light of this, it shouldn't be surprising to encounter a wide array of differences between multiple sources.  \n",
    "Here I would like to explore various ways of simplifying (hopefully) the merging process in a way that delivers concrete value to downstream users. There are many use cases where this could be of value. For example: If you have two systems that operate in parallel to each other and you need to perform some analysis of the relationship, you have a legacy system with poorly formatted data that needs to be integrated into a crisp new system, etc. The example I would like to dive into is the analysis of parallel systems."
   ]
  },
  {
   "cell_type": "markdown",
   "metadata": {},
   "source": [
    "#### **Analysis of parallel systems**\n",
    "This is a surprisingly common problem with organizations that use dated systems and software. What often happens is that additional needs arise that are not being met by the legacy system, and the organization will commission a new tool or subscribe to a service that only provides a solution to the gap left by the legacy system. Eventually this leads to the organization using a system from the early 90's, supplemented by additional systems from each subsequent decade. While some of these systems are likely independent of each other, there are potentially valuable insights that could be earned from analyzing the data as a whole.  \n",
    "When approached by stakeholders to solve this problem, a common solution that is proposed is the creation of some type of mapping table that can be used to perform the joins. This is not a bad solution granted there is a clearly defined and close-ended mapping. More often, however, there will be mappings that were not foreseen when the mapping is created, and potentially compounded by fields that are user-generated (yikes, I know). This makes a mapping table feasible when the stakeholders or end-users (read: people who don't want more work) are responsible for the maintenance of this mapping, and they may try to pass this responsibility to you. The last thing you want is to be in charge of updating some obscure domain-specific mapping table; It's not a good end result for anybody involved.  \n",
    "With this in mind, let's try to explore some solutions. For the purposes of this exploration, I am going to consider anything that could potentially assist this process as a solution, even if it doesn't solve the problem completely."
   ]
  },
  {
   "cell_type": "markdown",
   "metadata": {},
   "source": [
    "### ***First, some data***\n",
    "I will create two distinct lists of names. One will be a clean set of standardized names, representing your main data source. The other will be a messy, jumbled, and inconsistent list representing the proverbial child spilling soda on the floor."
   ]
  },
  {
   "cell_type": "code",
   "execution_count": 3,
   "metadata": {},
   "outputs": [
    {
     "name": "stdout",
     "output_type": "stream",
     "text": [
      "['Zerg', 'Terran', 'Terran']\n",
      "['ZergIeLZV', 'Terran', 'TerranszyvrRoxKGgzV']\n"
     ]
    }
   ],
   "source": [
    "from random import random as rd\n",
    "from random import randint as ri\n",
    "from string import ascii_letters,ascii_lowercase\n",
    "\n",
    "key_set = ['Terran','Protoss','Zerg']\n",
    "idx = lambda X: ri(0,X)\n",
    "\n",
    "mr_clean = [key_set[idx(2)] for x in range(5000)]\n",
    "bad_child = [\n",
    "    X + ''.join(\n",
    "        [ascii_letters[idx(len(ascii_letters)-1)] for x in range(idx(15))]\n",
    "        ) for X in mr_clean\n",
    "    ]\n",
    "\n",
    "print(mr_clean[:3])\n",
    "print(bad_child[:3])"
   ]
  },
  {
   "cell_type": "markdown",
   "metadata": {},
   "source": [
    "To create the messy dataset, I've added a random number of random ascii characters to the end of each element from the clean list."
   ]
  },
  {
   "cell_type": "markdown",
   "metadata": {},
   "source": [
    "### **Candidate 1: Clustering**\n",
    "The first step here is to transform the letters for each element into a more useful representation. To accomplish this, we'll use sklearn's CountVectorizer to transform the words into a matrix of character counts."
   ]
  },
  {
   "cell_type": "code",
   "execution_count": 4,
   "metadata": {},
   "outputs": [
    {
     "name": "stdout",
     "output_type": "stream",
     "text": [
      "[[0 0 0 0 1 0 1 0 0 0 0 0 0 0 0 0 0 1 0 0 0 0 0 0 0 1]\n",
      " [1 0 0 0 1 0 0 0 0 0 0 0 0 1 0 0 0 2 0 1 0 0 0 0 0 0]\n",
      " [1 0 0 0 1 0 0 0 0 0 0 0 0 1 0 0 0 2 0 1 0 0 0 0 0 0]]\n",
      "[[0 0 0 0 2 0 1 0 1 0 0 1 0 0 0 0 0 1 0 0 0 1 0 0 0 2]\n",
      " [1 0 0 0 1 0 0 0 0 0 0 0 0 1 0 0 0 2 0 1 0 0 0 0 0 0]\n",
      " [1 0 0 0 1 0 2 0 0 0 1 0 0 1 1 0 0 4 1 1 0 2 0 1 1 2]]\n"
     ]
    }
   ],
   "source": [
    "from sklearn.feature_extraction.text import CountVectorizer as CV\n",
    "corpus = list(ascii_lowercase)\n",
    "vec = CV(vocabulary=corpus,analyzer='char')\n",
    "\n",
    "mr_clean_vec = [x.lower() for x in mr_clean]\n",
    "bad_child_vec = [x.lower() for x in bad_child]\n",
    "\n",
    "mr_clean_vec = vec.fit_transform(mr_clean_vec).toarray()\n",
    "bad_child_vec = vec.fit_transform(bad_child_vec).toarray()\n",
    "\n",
    "print(mr_clean_vec[:3])\n",
    "print(bad_child_vec[:3])"
   ]
  },
  {
   "cell_type": "markdown",
   "metadata": {},
   "source": [
    "Now that the data is in an appropriate format, we can try clustering the output. In this case, because we are working with categorical variables we will use kmodes as opposed to kmeans. Kmeans uses Euclidean distance, which is not meaningful for categorical variables.\n",
    "First, I will test out kmodes using the clean data as a control to see how well it works for our purpose."
   ]
  },
  {
   "cell_type": "code",
   "execution_count": 9,
   "metadata": {},
   "outputs": [
    {
     "name": "stdout",
     "output_type": "stream",
     "text": [
      "Init: initializing centroids\n",
      "Init: initializing clusters\n",
      "Starting iterations...\n",
      "Run 1, iteration: 1/0, moves: 0, cost: 0.0\n"
     ]
    }
   ],
   "source": [
    "from kmodes.kmodes import KModes\n",
    "import matplotlib.pyplot as plt\n",
    "import seaborn as sns\n",
    "\n",
    "kmodes = KModes(\n",
    "    n_clusters=3, init = \"Cao\", n_init = 1, verbose=1\n",
    ")\n",
    "results = kmodes.fit_predict(mr_clean_vec)"
   ]
  },
  {
   "cell_type": "code",
   "execution_count": 12,
   "metadata": {},
   "outputs": [],
   "source": [
    "import pandas as pd\n",
    "clean_df = pd.DataFrame()\n",
    "clean_df['labels'] = mr_clean\n",
    "clean_df['kmodes'] = results"
   ]
  },
  {
   "cell_type": "code",
   "execution_count": 18,
   "metadata": {},
   "outputs": [
    {
     "data": {
      "image/png": "[encoded data removed]",
      "text/plain": [
       "<Figure size 360x360 with 1 Axes>"
      ]
     },
     "metadata": {
      "needs_background": "light"
     },
     "output_type": "display_data"
    }
   ],
   "source": [
    "plt.subplots(figsize = (5,5))\n",
    "sns.countplot(\n",
    "    x=clean_df['labels'],\n",
    "    order=clean_df['labels'].value_counts().index,\n",
    "    hue=clean_df['kmodes']\n",
    ")\n",
    "plt.show()"
   ]
  },
  {
   "cell_type": "markdown",
   "metadata": {},
   "source": [
    "Based on the results chart, we can create a quick lookup dictionary to label and check the output."
   ]
  },
  {
   "cell_type": "code",
   "execution_count": 23,
   "metadata": {},
   "outputs": [
    {
     "data": {
      "text/html": [
       "<div>\n",
       "<style scoped>\n",
       "    .dataframe tbody tr th:only-of-type {\n",
       "        vertical-align: middle;\n",
       "    }\n",
       "\n",
       "    .dataframe tbody tr th {\n",
       "        vertical-align: top;\n",
       "    }\n",
       "\n",
       "    .dataframe thead th {\n",
       "        text-align: right;\n",
       "    }\n",
       "</style>\n",
       "<table border=\"1\" class=\"dataframe\">\n",
       "  <thead>\n",
       "    <tr style=\"text-align: right;\">\n",
       "      <th></th>\n",
       "      <th>labels</th>\n",
       "      <th>kmodes</th>\n",
       "      <th>km_eval</th>\n",
       "      <th>km_res</th>\n",
       "    </tr>\n",
       "  </thead>\n",
       "  <tbody>\n",
       "    <tr>\n",
       "      <th>0</th>\n",
       "      <td>Zerg</td>\n",
       "      <td>1</td>\n",
       "      <td>True</td>\n",
       "      <td>Zerg</td>\n",
       "    </tr>\n",
       "    <tr>\n",
       "      <th>1</th>\n",
       "      <td>Terran</td>\n",
       "      <td>0</td>\n",
       "      <td>True</td>\n",
       "      <td>Terran</td>\n",
       "    </tr>\n",
       "    <tr>\n",
       "      <th>2</th>\n",
       "      <td>Terran</td>\n",
       "      <td>0</td>\n",
       "      <td>True</td>\n",
       "      <td>Terran</td>\n",
       "    </tr>\n",
       "    <tr>\n",
       "      <th>3</th>\n",
       "      <td>Zerg</td>\n",
       "      <td>1</td>\n",
       "      <td>True</td>\n",
       "      <td>Zerg</td>\n",
       "    </tr>\n",
       "    <tr>\n",
       "      <th>4</th>\n",
       "      <td>Protoss</td>\n",
       "      <td>2</td>\n",
       "      <td>True</td>\n",
       "      <td>Protoss</td>\n",
       "    </tr>\n",
       "  </tbody>\n",
       "</table>\n",
       "</div>"
      ],
      "text/plain": [
       "    labels  kmodes  km_eval   km_res\n",
       "0     Zerg       1     True     Zerg\n",
       "1   Terran       0     True   Terran\n",
       "2   Terran       0     True   Terran\n",
       "3     Zerg       1     True     Zerg\n",
       "4  Protoss       2     True  Protoss"
      ]
     },
     "execution_count": 23,
     "metadata": {},
     "output_type": "execute_result"
    }
   ],
   "source": [
    "lkup = {0:'Terran',1:'Zerg',2:'Protoss'}\n",
    "clean_df['km_res'] = [lkup[x] for x in results]\n",
    "clean_df['km_eval'] = clean_df['labels'] == clean_df['km_res']\n",
    "clean_df.head()"
   ]
  },
  {
   "cell_type": "code",
   "execution_count": 24,
   "metadata": {},
   "outputs": [
    {
     "data": {
      "text/plain": [
       "count     5000\n",
       "unique       1\n",
       "top       True\n",
       "freq      5000\n",
       "Name: km_eval, dtype: object"
      ]
     },
     "execution_count": 24,
     "metadata": {},
     "output_type": "execute_result"
    }
   ],
   "source": [
    "clean_df['km_eval'].describe()"
   ]
  },
  {
   "cell_type": "markdown",
   "metadata": {},
   "source": [
    "For the clean dataset, kmodes selected the appropriate cluster 5000 of 5000 times. The control test appears to have been successful, so lets try it on the soda-soaked list."
   ]
  },
  {
   "cell_type": "code",
   "execution_count": 25,
   "metadata": {},
   "outputs": [
    {
     "name": "stdout",
     "output_type": "stream",
     "text": [
      "Init: initializing centroids\n",
      "Init: initializing clusters\n",
      "Starting iterations...\n",
      "Run 1, iteration: 1/100, moves: 1861, cost: 31942.0\n",
      "Run 1, iteration: 2/100, moves: 1376, cost: 31050.0\n",
      "Run 1, iteration: 3/100, moves: 2, cost: 31050.0\n"
     ]
    },
    {
     "data": {
      "image/png": "[encoded data removed]",
      "text/plain": [
       "<Figure size 360x360 with 1 Axes>"
      ]
     },
     "metadata": {
      "needs_background": "light"
     },
     "output_type": "display_data"
    }
   ],
   "source": [
    "results = kmodes.fit_predict(bad_child_vec)\n",
    "messy_df = pd.DataFrame()\n",
    "messy_df['labels'] = mr_clean\n",
    "messy_df['kmodes'] = results\n",
    "\n",
    "plt.subplots(figsize = (5,5))\n",
    "sns.countplot(\n",
    "    x=messy_df['labels'],\n",
    "    order=messy_df['labels'].value_counts().index,\n",
    "    hue=messy_df['kmodes']\n",
    ")\n",
    "plt.show()"
   ]
  },
  {
   "cell_type": "markdown",
   "metadata": {},
   "source": [
    "Okay so there's a little more variety here, but overall it looks like there's a solid mapping to draw from."
   ]
  },
  {
   "cell_type": "code",
   "execution_count": 26,
   "metadata": {},
   "outputs": [
    {
     "data": {
      "text/html": [
       "<div>\n",
       "<style scoped>\n",
       "    .dataframe tbody tr th:only-of-type {\n",
       "        vertical-align: middle;\n",
       "    }\n",
       "\n",
       "    .dataframe tbody tr th {\n",
       "        vertical-align: top;\n",
       "    }\n",
       "\n",
       "    .dataframe thead th {\n",
       "        text-align: right;\n",
       "    }\n",
       "</style>\n",
       "<table border=\"1\" class=\"dataframe\">\n",
       "  <thead>\n",
       "    <tr style=\"text-align: right;\">\n",
       "      <th></th>\n",
       "      <th>labels</th>\n",
       "      <th>kmodes</th>\n",
       "      <th>km_res</th>\n",
       "      <th>km_eval</th>\n",
       "    </tr>\n",
       "  </thead>\n",
       "  <tbody>\n",
       "    <tr>\n",
       "      <th>0</th>\n",
       "      <td>Zerg</td>\n",
       "      <td>0</td>\n",
       "      <td>Zerg</td>\n",
       "      <td>True</td>\n",
       "    </tr>\n",
       "    <tr>\n",
       "      <th>1</th>\n",
       "      <td>Terran</td>\n",
       "      <td>2</td>\n",
       "      <td>Terran</td>\n",
       "      <td>True</td>\n",
       "    </tr>\n",
       "    <tr>\n",
       "      <th>2</th>\n",
       "      <td>Terran</td>\n",
       "      <td>2</td>\n",
       "      <td>Terran</td>\n",
       "      <td>True</td>\n",
       "    </tr>\n",
       "    <tr>\n",
       "      <th>3</th>\n",
       "      <td>Zerg</td>\n",
       "      <td>0</td>\n",
       "      <td>Zerg</td>\n",
       "      <td>True</td>\n",
       "    </tr>\n",
       "    <tr>\n",
       "      <th>4</th>\n",
       "      <td>Protoss</td>\n",
       "      <td>1</td>\n",
       "      <td>Protoss</td>\n",
       "      <td>True</td>\n",
       "    </tr>\n",
       "  </tbody>\n",
       "</table>\n",
       "</div>"
      ],
      "text/plain": [
       "    labels  kmodes   km_res  km_eval\n",
       "0     Zerg       0     Zerg     True\n",
       "1   Terran       2   Terran     True\n",
       "2   Terran       2   Terran     True\n",
       "3     Zerg       0     Zerg     True\n",
       "4  Protoss       1  Protoss     True"
      ]
     },
     "execution_count": 26,
     "metadata": {},
     "output_type": "execute_result"
    }
   ],
   "source": [
    "lkup = {0:'Zerg',1:'Protoss',2:'Terran'}\n",
    "messy_df['km_res'] = [lkup[x] for x in results]\n",
    "messy_df['km_eval'] = messy_df['labels'] == messy_df['km_res']\n",
    "messy_df.head()"
   ]
  },
  {
   "cell_type": "code",
   "execution_count": 28,
   "metadata": {},
   "outputs": [
    {
     "data": {
      "text/plain": [
       "count     5000\n",
       "unique       2\n",
       "top       True\n",
       "freq      4828\n",
       "Name: km_eval, dtype: object"
      ]
     },
     "execution_count": 28,
     "metadata": {},
     "output_type": "execute_result"
    }
   ],
   "source": [
    "messy_df['km_eval'].describe()"
   ]
  },
  {
   "cell_type": "markdown",
   "metadata": {},
   "source": [
    "It looks like kmodes correctly grouped the categories in 4828/5000 tries, for a success rate of 96.56%. Not bad overall. One note of caution here is that this artificially messy data I created is not all that realistic. Since I simply tacked on a bunch of random garbage to the end of the category, at this point you could simply do this:"
   ]
  },
  {
   "cell_type": "code",
   "execution_count": 29,
   "metadata": {},
   "outputs": [
    {
     "data": {
      "text/plain": [
       "5000"
      ]
     },
     "execution_count": 29,
     "metadata": {},
     "output_type": "execute_result"
    }
   ],
   "source": [
    "cleanup = [y for x in bad_child for y in key_set if y in x]\n",
    "\n",
    "from collections import Counter\n",
    "Counter([a==b for a,b in zip(mr_clean,cleanup)])[True]"
   ]
  },
  {
   "cell_type": "markdown",
   "metadata": {},
   "source": [
    "Simply checking if the key string is found within the messy data solves the problem completely. In reality, this is not likely to be true. Let's see if we can come up with something a bit more realistic."
   ]
  },
  {
   "cell_type": "code",
   "execution_count": 33,
   "metadata": {},
   "outputs": [
    {
     "name": "stdout",
     "output_type": "stream",
     "text": [
      "['YZNerg', 'dTebrran', 'Terran', 'Zervg', 'Protoss']\n"
     ]
    }
   ],
   "source": [
    "from math import ceil\n",
    "\n",
    "def css(word):\n",
    "    noise = ceil(.3 * len(word)) # introduce a reasonable threshold of noise for the word\n",
    "    mx = len(word)-1\n",
    "    for _ in range(idx(noise)): # randomly add n characters\n",
    "        pt = idx(mx)\n",
    "        word = word[:pt] + ascii_letters[idx(len(ascii_letters)-1)] + word[pt:]\n",
    "    return word\n",
    "\n",
    "bad_child = [css(x) for x in mr_clean]\n",
    "print(bad_child[:5])"
   ]
  },
  {
   "cell_type": "markdown",
   "metadata": {},
   "source": [
    "This introduces more realistic spelling and key errors into the messy dataset, so now let's try kmodes again with our new noise."
   ]
  },
  {
   "cell_type": "code",
   "execution_count": 34,
   "metadata": {},
   "outputs": [
    {
     "name": "stdout",
     "output_type": "stream",
     "text": [
      "Init: initializing centroids\n",
      "Init: initializing clusters\n",
      "Starting iterations...\n",
      "Run 1, iteration: 1/100, moves: 130, cost: 5686.0\n",
      "Run 1, iteration: 2/100, moves: 0, cost: 5686.0\n"
     ]
    },
    {
     "data": {
      "image/png": "[encoded data removed]",
      "text/plain": [
       "<Figure size 360x360 with 1 Axes>"
      ]
     },
     "metadata": {
      "needs_background": "light"
     },
     "output_type": "display_data"
    }
   ],
   "source": [
    "bad_child_vec = [x.lower() for x in bad_child]\n",
    "bad_child_vec = vec.fit_transform(bad_child_vec).toarray()\n",
    "\n",
    "results = kmodes.fit_predict(bad_child_vec)\n",
    "messy_df = pd.DataFrame()\n",
    "messy_df['labels'] = mr_clean\n",
    "messy_df['kmodes'] = results\n",
    "\n",
    "plt.subplots(figsize = (5,5))\n",
    "sns.countplot(\n",
    "    x=messy_df['labels'],\n",
    "    order=messy_df['labels'].value_counts().index,\n",
    "    hue=messy_df['kmodes']\n",
    ")\n",
    "plt.show()"
   ]
  },
  {
   "cell_type": "markdown",
   "metadata": {},
   "source": [
    "The output here actually looks very promising."
   ]
  },
  {
   "cell_type": "code",
   "execution_count": 35,
   "metadata": {},
   "outputs": [
    {
     "data": {
      "text/html": [
       "<div>\n",
       "<style scoped>\n",
       "    .dataframe tbody tr th:only-of-type {\n",
       "        vertical-align: middle;\n",
       "    }\n",
       "\n",
       "    .dataframe tbody tr th {\n",
       "        vertical-align: top;\n",
       "    }\n",
       "\n",
       "    .dataframe thead th {\n",
       "        text-align: right;\n",
       "    }\n",
       "</style>\n",
       "<table border=\"1\" class=\"dataframe\">\n",
       "  <thead>\n",
       "    <tr style=\"text-align: right;\">\n",
       "      <th></th>\n",
       "      <th>labels</th>\n",
       "      <th>kmodes</th>\n",
       "      <th>km_res</th>\n",
       "      <th>km_eval</th>\n",
       "    </tr>\n",
       "  </thead>\n",
       "  <tbody>\n",
       "    <tr>\n",
       "      <th>0</th>\n",
       "      <td>Zerg</td>\n",
       "      <td>0</td>\n",
       "      <td>Zerg</td>\n",
       "      <td>True</td>\n",
       "    </tr>\n",
       "    <tr>\n",
       "      <th>1</th>\n",
       "      <td>Terran</td>\n",
       "      <td>2</td>\n",
       "      <td>Terran</td>\n",
       "      <td>True</td>\n",
       "    </tr>\n",
       "    <tr>\n",
       "      <th>2</th>\n",
       "      <td>Terran</td>\n",
       "      <td>2</td>\n",
       "      <td>Terran</td>\n",
       "      <td>True</td>\n",
       "    </tr>\n",
       "    <tr>\n",
       "      <th>3</th>\n",
       "      <td>Zerg</td>\n",
       "      <td>0</td>\n",
       "      <td>Zerg</td>\n",
       "      <td>True</td>\n",
       "    </tr>\n",
       "    <tr>\n",
       "      <th>4</th>\n",
       "      <td>Protoss</td>\n",
       "      <td>1</td>\n",
       "      <td>Protoss</td>\n",
       "      <td>True</td>\n",
       "    </tr>\n",
       "  </tbody>\n",
       "</table>\n",
       "</div>"
      ],
      "text/plain": [
       "    labels  kmodes   km_res  km_eval\n",
       "0     Zerg       0     Zerg     True\n",
       "1   Terran       2   Terran     True\n",
       "2   Terran       2   Terran     True\n",
       "3     Zerg       0     Zerg     True\n",
       "4  Protoss       1  Protoss     True"
      ]
     },
     "execution_count": 35,
     "metadata": {},
     "output_type": "execute_result"
    }
   ],
   "source": [
    "lkup = {0:'Zerg',1:'Protoss',2:'Terran'}\n",
    "messy_df['km_res'] = [lkup[x] for x in results]\n",
    "messy_df['km_eval'] = messy_df['labels'] == messy_df['km_res']\n",
    "messy_df.head()"
   ]
  },
  {
   "cell_type": "code",
   "execution_count": 36,
   "metadata": {},
   "outputs": [
    {
     "data": {
      "text/plain": [
       "count     5000\n",
       "unique       1\n",
       "top       True\n",
       "freq      5000\n",
       "Name: km_eval, dtype: object"
      ]
     },
     "execution_count": 36,
     "metadata": {},
     "output_type": "execute_result"
    }
   ],
   "source": [
    "messy_df['km_eval'].describe()"
   ]
  },
  {
   "cell_type": "markdown",
   "metadata": {},
   "source": [
    "So this actually worked rather well; Each of the items in this case were classified correctly.  \n",
    "One of the drawbacks of a manual entry system, where you have humans inserting records, is that you are going to have human mistakes. There will be inconsistencies, misspellings, conflated terms, etc; We will have to be able to account for these issues. Let's introduce a little more complexity and add some inconsistencies."
   ]
  },
  {
   "cell_type": "code",
   "execution_count": 38,
   "metadata": {},
   "outputs": [
    {
     "name": "stdout",
     "output_type": "stream",
     "text": [
      "Init: initializing centroids\n",
      "Init: initializing clusters\n",
      "Starting iterations...\n",
      "Run 1, iteration: 1/100, moves: 451, cost: 23933.0\n",
      "Run 1, iteration: 2/100, moves: 0, cost: 23933.0\n"
     ]
    },
    {
     "data": {
      "image/png": "[encoded data removed]",
      "text/plain": [
       "<Figure size 360x360 with 1 Axes>"
      ]
     },
     "metadata": {
      "needs_background": "light"
     },
     "output_type": "display_data"
    }
   ],
   "source": [
    "junk = ['Industries','Ind','Inc','Co','Corp','Llc','Company']\n",
    "\n",
    "bad_child = [css(x) for x in mr_clean]\n",
    "bad_child = [x + ' ' + junk[idx(len(junk)-1)] for x in bad_child]\n",
    "\n",
    "bad_child_vec = [x.lower() for x in bad_child]\n",
    "bad_child_vec = vec.fit_transform(bad_child_vec).toarray()\n",
    "\n",
    "results = kmodes.fit_predict(bad_child_vec)\n",
    "messy_df = pd.DataFrame()\n",
    "messy_df['labels'] = mr_clean\n",
    "messy_df['kmodes'] = results\n",
    "\n",
    "plt.subplots(figsize = (5,5))\n",
    "sns.countplot(\n",
    "    x=messy_df['labels'],\n",
    "    order=messy_df['labels'].value_counts().index,\n",
    "    hue=messy_df['kmodes']\n",
    ")\n",
    "plt.show()"
   ]
  },
  {
   "cell_type": "markdown",
   "metadata": {},
   "source": [
    "That's more like it. Now we appear to have a real problem on our hands. Two of the categories were handled reasonably well, but the third category seems to be close to a near coin-flip result."
   ]
  },
  {
   "cell_type": "code",
   "execution_count": 39,
   "metadata": {},
   "outputs": [
    {
     "data": {
      "text/html": [
       "<div>\n",
       "<style scoped>\n",
       "    .dataframe tbody tr th:only-of-type {\n",
       "        vertical-align: middle;\n",
       "    }\n",
       "\n",
       "    .dataframe tbody tr th {\n",
       "        vertical-align: top;\n",
       "    }\n",
       "\n",
       "    .dataframe thead th {\n",
       "        text-align: right;\n",
       "    }\n",
       "</style>\n",
       "<table border=\"1\" class=\"dataframe\">\n",
       "  <thead>\n",
       "    <tr style=\"text-align: right;\">\n",
       "      <th></th>\n",
       "      <th>labels</th>\n",
       "      <th>kmodes</th>\n",
       "      <th>km_res</th>\n",
       "      <th>km_eval</th>\n",
       "    </tr>\n",
       "  </thead>\n",
       "  <tbody>\n",
       "    <tr>\n",
       "      <th>0</th>\n",
       "      <td>Zerg</td>\n",
       "      <td>1</td>\n",
       "      <td>Protoss</td>\n",
       "      <td>False</td>\n",
       "    </tr>\n",
       "    <tr>\n",
       "      <th>1</th>\n",
       "      <td>Terran</td>\n",
       "      <td>0</td>\n",
       "      <td>Terran</td>\n",
       "      <td>True</td>\n",
       "    </tr>\n",
       "    <tr>\n",
       "      <th>2</th>\n",
       "      <td>Terran</td>\n",
       "      <td>0</td>\n",
       "      <td>Terran</td>\n",
       "      <td>True</td>\n",
       "    </tr>\n",
       "    <tr>\n",
       "      <th>3</th>\n",
       "      <td>Zerg</td>\n",
       "      <td>1</td>\n",
       "      <td>Protoss</td>\n",
       "      <td>False</td>\n",
       "    </tr>\n",
       "    <tr>\n",
       "      <th>4</th>\n",
       "      <td>Protoss</td>\n",
       "      <td>0</td>\n",
       "      <td>Terran</td>\n",
       "      <td>False</td>\n",
       "    </tr>\n",
       "  </tbody>\n",
       "</table>\n",
       "</div>"
      ],
      "text/plain": [
       "    labels  kmodes   km_res  km_eval\n",
       "0     Zerg       1  Protoss    False\n",
       "1   Terran       0   Terran     True\n",
       "2   Terran       0   Terran     True\n",
       "3     Zerg       1  Protoss    False\n",
       "4  Protoss       0   Terran    False"
      ]
     },
     "execution_count": 39,
     "metadata": {},
     "output_type": "execute_result"
    }
   ],
   "source": [
    "lkup = {0:'Terran',1:'Protoss',2:'Zerg'}\n",
    "messy_df['km_res'] = [lkup[x] for x in results]\n",
    "messy_df['km_eval'] = messy_df['labels'] == messy_df['km_res']\n",
    "messy_df.head()"
   ]
  },
  {
   "cell_type": "code",
   "execution_count": 40,
   "metadata": {},
   "outputs": [
    {
     "data": {
      "text/plain": [
       "count     5000\n",
       "unique       2\n",
       "top       True\n",
       "freq      3616\n",
       "Name: km_eval, dtype: object"
      ]
     },
     "execution_count": 40,
     "metadata": {},
     "output_type": "execute_result"
    }
   ],
   "source": [
    "messy_df['km_eval'].describe()"
   ]
  },
  {
   "cell_type": "markdown",
   "metadata": {},
   "source": [
    "Clearly the results are less favorable now; 27.68% of the records are now mislabeled. The issue here is now we have a consistent set of characters that transcend categories. This becomes especially problematic because one of the categories is only four caracters long. So now if that category has the junk label 'Industries', that record has more characters in common with other records with the same junk label than it has differentiating it. In a real-world situation, if you have the means, definitely try to clean that up prior to attempting to group these records.\n",
    "Let's continue our exploration."
   ]
  },
  {
   "cell_type": "markdown",
   "metadata": {},
   "source": [
    "### **Candidate 2: Edit Distance**\n",
    "Edit Distance, or Levenshtein Distance, is a metric that measures the minimum numbers of single-charater edits needed to change one word into another."
   ]
  },
  {
   "cell_type": "code",
   "execution_count": 42,
   "metadata": {},
   "outputs": [
    {
     "data": {
      "text/plain": [
       "1"
      ]
     },
     "execution_count": 42,
     "metadata": {},
     "output_type": "execute_result"
    }
   ],
   "source": [
    "from editdistance import distance as dist\n",
    "dist('test','test1')"
   ]
  },
  {
   "cell_type": "markdown",
   "metadata": {},
   "source": [
    "Looks promising, right? We can take minimum edit distance between of each of our keys and the record in question to relabel our messy data."
   ]
  },
  {
   "cell_type": "code",
   "execution_count": 44,
   "metadata": {},
   "outputs": [
    {
     "data": {
      "text/plain": [
       "count     5000\n",
       "unique       2\n",
       "top       True\n",
       "freq      4785\n",
       "Name: lev_eval, dtype: object"
      ]
     },
     "execution_count": 44,
     "metadata": {},
     "output_type": "execute_result"
    }
   ],
   "source": [
    "results = []\n",
    "for rec in bad_child:\n",
    "    ldist = [dist(rec,x) for x in key_set]\n",
    "    results.append(key_set[ldist.index(min(ldist))])\n",
    "\n",
    "messy_df['lev_dist'] = results\n",
    "messy_df['lev_eval'] = [a == b for a,b in zip(messy_df['lev_dist'],messy_df['labels'])]\n",
    "messy_df['lev_eval'].describe()"
   ]
  },
  {
   "cell_type": "code",
   "execution_count": 45,
   "metadata": {},
   "outputs": [
    {
     "data": {
      "image/png": "[encoded data removed]",
      "text/plain": [
       "<Figure size 360x360 with 1 Axes>"
      ]
     },
     "metadata": {
      "needs_background": "light"
     },
     "output_type": "display_data"
    }
   ],
   "source": [
    "plt.subplots(figsize = (5,5))\n",
    "sns.countplot(\n",
    "    x=messy_df['labels'],\n",
    "    order=messy_df['labels'].value_counts().index,\n",
    "    hue=messy_df['lev_dist']\n",
    ")\n",
    "plt.show()"
   ]
  },
  {
   "cell_type": "markdown",
   "metadata": {},
   "source": [
    "Edit Distance is clearly the better option over kmodes in this case; 4785/5000 (95.7%) of the records were matched correctly. It is also very simple to implement as an added bonus. One issue that you should be aware of when using edit distance, is that it can have a tendency to overweight noise. What I mean by this is that since Edit distance simply counts additions, subtractions, and deletions required to transform a word into another, for shorter words even moderate levels of noise can overload the metric. You can see a glipse of this when looking at the middle category in the above chart. The same also holds true for distinguishing between words that are similar. For example:"
   ]
  },
  {
   "cell_type": "code",
   "execution_count": 48,
   "metadata": {},
   "outputs": [
    {
     "name": "stdout",
     "output_type": "stream",
     "text": [
      "13\n",
      "13\n"
     ]
    }
   ],
   "source": [
    "print(dist('Terran','Terran Incorporated'))\n",
    "print(dist('Terran','Tread Incorporated'))"
   ]
  },
  {
   "cell_type": "markdown",
   "metadata": {},
   "source": [
    "In the above example, Edit Distance does not provide any guidance at all. This is in the best case where there are no misspellings to muddy the waters even further. The more categories you have, the more difficult the situation becomes. While Edit Distance performed well here, across a large volume of data with diverse issues don't expect it to give you the best answer. Let's continue our exploration."
   ]
  },
  {
   "cell_type": "markdown",
   "metadata": {},
   "source": [
    "### **Candidate 3: Cosine Similarity**\n",
    "Cosine similarity measures the angle between two vectors.\n",
    "Since we've already transformed the words into vectors this should be a relatively easy transition and should provide some interesting results. We'll calculate the cosine similarity of each element in the messy list to each of our keys and return the highest value."
   ]
  },
  {
   "cell_type": "code",
   "execution_count": 50,
   "metadata": {},
   "outputs": [
    {
     "data": {
      "text/plain": [
       "count     5000\n",
       "unique       2\n",
       "top       True\n",
       "freq      4935\n",
       "Name: cos_eval, dtype: object"
      ]
     },
     "execution_count": 50,
     "metadata": {},
     "output_type": "execute_result"
    }
   ],
   "source": [
    "from sklearn.metrics.pairwise import cosine_similarity\n",
    "\n",
    "key_vec = [x.lower() for x in key_set]\n",
    "key_vec = vec.fit_transform(key_vec).toarray()\n",
    "\n",
    "results = []\n",
    "for rec in bad_child_vec:\n",
    "    cosim = [cosine_similarity([rec],[x]) for x in key_vec]\n",
    "    results.append(key_set[cosim.index(max(cosim))])\n",
    "\n",
    "messy_df['cosim'] = results\n",
    "messy_df['cos_eval'] = [a == b for a,b in zip(messy_df['cosim'],messy_df['labels'])]\n",
    "messy_df['cos_eval'].describe()"
   ]
  },
  {
   "cell_type": "code",
   "execution_count": 51,
   "metadata": {},
   "outputs": [
    {
     "data": {
      "image/png": "[encoded data removed]",
      "text/plain": [
       "<Figure size 360x360 with 1 Axes>"
      ]
     },
     "metadata": {
      "needs_background": "light"
     },
     "output_type": "display_data"
    }
   ],
   "source": [
    "plt.subplots(figsize = (5,5))\n",
    "sns.countplot(\n",
    "    x=messy_df['labels'],\n",
    "    order=messy_df['labels'].value_counts().index,\n",
    "    hue=messy_df['cosim']\n",
    ")\n",
    "plt.show()"
   ]
  },
  {
   "cell_type": "markdown",
   "metadata": {},
   "source": [
    "This method performed slightly better than Edit Distance; 4935/5000 (98.7%) of the records were matched correctly. The main issue to watch out for with cosine similarity has more to do with the preparation of the data itself. The vectorizer used here tokenizes the letters of each word; The actual order of letters is not taken into account. This leads to a similar issue that can plague edit distance in that shorter words are easier to miscategorize. You can see this in the above chart as well. Here is another classic example:"
   ]
  },
  {
   "cell_type": "code",
   "execution_count": 55,
   "metadata": {},
   "outputs": [
    {
     "data": {
      "text/plain": [
       "1.0"
      ]
     },
     "execution_count": 55,
     "metadata": {},
     "output_type": "execute_result"
    }
   ],
   "source": [
    "cosine_similarity(\n",
    "    vec.fit_transform(['read']).toarray(),\n",
    "    vec.fit_transform(['dear']).toarray()\n",
    ")[0][0]"
   ]
  },
  {
   "cell_type": "markdown",
   "metadata": {},
   "source": [
    "Due to the way the words are vectorized, cosine similarity returns a perfect match for these two words with very different meanings. Let's continue exploring."
   ]
  },
  {
   "cell_type": "markdown",
   "metadata": {},
   "source": [
    "### **Candidate 4: Neural Network**\n",
    "The last approach I wanted to explore here is a nueral network with an embedding matrix. An embedding layer in a neural network tries to provide a meaningful representation of a categorical variable in space while learning relationships between the categorical variables. I'm hopeful of this approach because it should have the ability to correct for the issues presented by cosine similarity and edit distance."
   ]
  },
  {
   "cell_type": "code",
   "execution_count": 73,
   "metadata": {},
   "outputs": [
    {
     "name": "stdout",
     "output_type": "stream",
     "text": [
      "Model: \"sequential_4\"\n",
      "_________________________________________________________________\n",
      "Layer (type)                 Output Shape              Param #   \n",
      "=================================================================\n",
      "embedding_4 (Embedding)      (None, 26, 50)            1300      \n",
      "_________________________________________________________________\n",
      "flatten_4 (Flatten)          (None, 1300)              0         \n",
      "_________________________________________________________________\n",
      "dense_5 (Dense)              (None, 3)                 3903      \n",
      "=================================================================\n",
      "Total params: 5,203\n",
      "Trainable params: 5,203\n",
      "Non-trainable params: 0\n",
      "_________________________________________________________________\n"
     ]
    }
   ],
   "source": [
    "from keras import layers\n",
    "from keras.models import Sequential\n",
    "from keras.utils import to_categorical\n",
    "\n",
    "embedding_dim = 50\n",
    "model = Sequential()\n",
    "model.add(layers.Embedding(\n",
    "    input_dim=26,\n",
    "    output_dim=embedding_dim,\n",
    "    input_length=26)\n",
    ")\n",
    "model.add(layers.Flatten())\n",
    "model.add(layers.Dense(3, activation='softmax'))\n",
    "model.compile(\n",
    "    optimizer='adam',\n",
    "    loss='categorical_crossentropy',\n",
    "    metrics=['accuracy']\n",
    ")\n",
    "model.summary()"
   ]
  },
  {
   "cell_type": "code",
   "execution_count": 71,
   "metadata": {},
   "outputs": [
    {
     "name": "stdout",
     "output_type": "stream",
     "text": [
      "[2, 0, 0]\n",
      "[[0. 0. 1.]\n",
      " [1. 0. 0.]\n",
      " [1. 0. 0.]]\n"
     ]
    }
   ],
   "source": [
    "answers = {x:i for i,x in enumerate(key_set)}\n",
    "rev_answers = {i:x for i,x in enumerate(key_set)}\n",
    "labels = [answers[x] for x in mr_clean]\n",
    "y_binary = to_categorical(labels)\n",
    "\n",
    "print(labels[:3])\n",
    "print(y_binary[:3])"
   ]
  },
  {
   "cell_type": "code",
   "execution_count": 78,
   "metadata": {},
   "outputs": [],
   "source": [
    "import numpy as np\n",
    "\n",
    "history = model.fit(\n",
    "    np.array(mr_clean_vec),y_binary,\n",
    "    epochs=10,\n",
    "    batch_size=50,\n",
    "    validation_data=(np.array(mr_clean_vec),y_binary),\n",
    "    verbose=False\n",
    ")"
   ]
  },
  {
   "cell_type": "code",
   "execution_count": 79,
   "metadata": {},
   "outputs": [],
   "source": [
    "x = model.predict(np.array(bad_child_vec))\n",
    "results = [rev_answers[X.argmax()] for X in x]"
   ]
  },
  {
   "cell_type": "code",
   "execution_count": 80,
   "metadata": {},
   "outputs": [
    {
     "data": {
      "text/plain": [
       "count     5000\n",
       "unique       2\n",
       "top       True\n",
       "freq      4728\n",
       "Name: emb_eval, dtype: object"
      ]
     },
     "execution_count": 80,
     "metadata": {},
     "output_type": "execute_result"
    }
   ],
   "source": [
    "messy_df['embedding'] = results\n",
    "messy_df['emb_eval'] = [a == b for a,b in zip(messy_df['embedding'],messy_df['labels'])]\n",
    "messy_df['emb_eval'].describe()"
   ]
  },
  {
   "cell_type": "code",
   "execution_count": 81,
   "metadata": {},
   "outputs": [
    {
     "data": {
      "image/png": "[encoded data removed]",
      "text/plain": [
       "<Figure size 360x360 with 1 Axes>"
      ]
     },
     "metadata": {
      "needs_background": "light"
     },
     "output_type": "display_data"
    }
   ],
   "source": [
    "plt.subplots(figsize = (5,5))\n",
    "sns.countplot(\n",
    "    x=messy_df['labels'],\n",
    "    order=messy_df['labels'].value_counts().index,\n",
    "    hue=messy_df['embedding']\n",
    ")\n",
    "plt.show()"
   ]
  },
  {
   "cell_type": "markdown",
   "metadata": {},
   "source": [
    "The model performed fairly well; 4728/5000 (94.56%) of the records were matched correctly. However, I think training on some messy data will improve the outcome."
   ]
  },
  {
   "cell_type": "code",
   "execution_count": 83,
   "metadata": {},
   "outputs": [
    {
     "data": {
      "text/plain": [
       "count     5000\n",
       "unique       2\n",
       "top       True\n",
       "freq      4923\n",
       "Name: emb_eval2, dtype: object"
      ]
     },
     "execution_count": 83,
     "metadata": {},
     "output_type": "execute_result"
    }
   ],
   "source": [
    "training,tr_lbl = [css(x) for x in mr_clean], mr_clean*2\n",
    "training.extend(mr_clean)\n",
    "\n",
    "training_vec = [x.lower() for x in training]\n",
    "training_vec = vec.fit_transform(training_vec).toarray()\n",
    "\n",
    "labels = [answers[x] for x in tr_lbl]\n",
    "y_binary = to_categorical(labels)\n",
    "\n",
    "history = model.fit(\n",
    "    np.array(training_vec),y_binary,\n",
    "    epochs=10,\n",
    "    batch_size=50,\n",
    "    validation_data=(np.array(training_vec),y_binary),\n",
    "    verbose=False\n",
    ")\n",
    "\n",
    "x = model.predict(np.array(bad_child_vec))\n",
    "results = [rev_answers[X.argmax()] for X in x]\n",
    "\n",
    "messy_df['embedding2'] = results\n",
    "messy_df['emb_eval2'] = [a == b for a,b in zip(messy_df['embedding2'],messy_df['labels'])]\n",
    "messy_df['emb_eval2'].describe()"
   ]
  },
  {
   "cell_type": "code",
   "execution_count": 84,
   "metadata": {},
   "outputs": [
    {
     "data": {
      "image/png": "[encoded data removed]",
      "text/plain": [
       "<Figure size 360x360 with 1 Axes>"
      ]
     },
     "metadata": {
      "needs_background": "light"
     },
     "output_type": "display_data"
    }
   ],
   "source": [
    "plt.subplots(figsize = (5,5))\n",
    "sns.countplot(\n",
    "    x=messy_df['labels'],\n",
    "    order=messy_df['labels'].value_counts().index,\n",
    "    hue=messy_df['embedding2']\n",
    ")\n",
    "plt.show()"
   ]
  },
  {
   "cell_type": "markdown",
   "metadata": {},
   "source": [
    "The new model performed very well; 4923/5000 (98.46%) of the records were matched correctly."
   ]
  },
  {
   "cell_type": "markdown",
   "metadata": {},
   "source": [
    "### **Conclusion**\n",
    "I think that the neural network is the most robust solution to the problem of merging disparate data sources. While some of the other solutions are simpler to implement, I think long-term the neural network will perform the best. There is some room for improvement left in the model as well, which should solidify the outcome even more. It also may be interesting to incorporate the Edit distance and cosine similarity as inputs into the neural network and see how the performance is affected. Thanks for taking the time to explore this problem with me."
   ]
  },
  {
   "cell_type": "code",
   "execution_count": null,
   "metadata": {},
   "outputs": [],
   "source": []
  }
 ],
 "metadata": {
  "kernelspec": {
   "display_name": "Python 3.7.0 64-bit",
   "language": "python",
   "name": "python37064bitf31244fa981945cf81e9219f52c81001"
  },
  "language_info": {
   "codemirror_mode": {
    "name": "ipython",
    "version": 3
   },
   "file_extension": ".py",
   "mimetype": "text/x-python",
   "name": "python",
   "nbconvert_exporter": "python",
   "pygments_lexer": "ipython3",
   "version": "3.7.0"
  }
 },
 "nbformat": 4,
 "nbformat_minor": 2
}
